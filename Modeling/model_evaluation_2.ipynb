{
 "cells": [
  {
   "cell_type": "markdown",
   "metadata": {},
   "source": [
    "# Prueba de algunos modelos de clasificacion\n",
    "\n",
    "Corremos los modelos y comparamos las metricas"
   ]
  },
  {
   "cell_type": "code",
   "execution_count": null,
   "metadata": {},
   "outputs": [],
   "source": []
  },
  {
   "cell_type": "code",
   "execution_count": 1,
   "metadata": {
    "ExecuteTime": {
     "end_time": "2020-04-14T19:59:48.781965Z",
     "start_time": "2020-04-14T19:59:48.269371Z"
    }
   },
   "outputs": [],
   "source": [
    "import re\n",
    "import pandas as pd\n",
    "import matplotlib.pyplot as plt\n",
    "import seaborn as sns\n",
    "import numpy as np\n",
    "%matplotlib inline\n",
    "\n",
    "pd.set_option(\"display.max_columns\",None)\n",
    "pd.set_option(\"display.max_rows\",40)\n",
    "sns.set(style=\"whitegrid\")"
   ]
  },
  {
   "cell_type": "code",
   "execution_count": 2,
   "metadata": {
    "ExecuteTime": {
     "end_time": "2020-04-14T19:59:53.981383Z",
     "start_time": "2020-04-14T19:59:48.784844Z"
    }
   },
   "outputs": [],
   "source": [
    "df = pd.read_csv(\"path_datos_entrenamiento\" , sep = \"|\")"
   ]
  },
  {
   "cell_type": "markdown",
   "metadata": {},
   "source": [
    "### Skcit learn decision tree"
   ]
  },
  {
   "cell_type": "code",
   "execution_count": 4,
   "metadata": {
    "ExecuteTime": {
     "end_time": "2020-04-14T20:00:21.838450Z",
     "start_time": "2020-04-14T20:00:20.711767Z"
    }
   },
   "outputs": [],
   "source": [
    "#train test split\n",
    "from sklearn.model_selection import train_test_split\n",
    "\n",
    "X_train, X_test, y_train, y_test = train_test_split(df.drop(['SUSCRIBER_KEY', 'target'],axis=1), \n",
    "                                                    df['target'], test_size=0.30, \n",
    "                                                    random_state=101)\n"
   ]
  },
  {
   "cell_type": "code",
   "execution_count": 4,
   "metadata": {
    "ExecuteTime": {
     "end_time": "2020-04-14T20:00:53.614524Z",
     "start_time": "2020-04-14T20:00:21.843619Z"
    }
   },
   "outputs": [
    {
     "data": {
      "text/plain": [
       "DecisionTreeClassifier(class_weight=None, criterion='gini', max_depth=None,\n",
       "                       max_features=None, max_leaf_nodes=None,\n",
       "                       min_impurity_decrease=0.0, min_impurity_split=None,\n",
       "                       min_samples_leaf=1, min_samples_split=2,\n",
       "                       min_weight_fraction_leaf=0.0, presort=False,\n",
       "                       random_state=None, splitter='best')"
      ]
     },
     "execution_count": 4,
     "metadata": {},
     "output_type": "execute_result"
    }
   ],
   "source": [
    "from sklearn.tree import DecisionTreeClassifier\n",
    "\n",
    "dtree = DecisionTreeClassifier()\n",
    "\n",
    "dtree.fit(X_train,y_train)"
   ]
  },
  {
   "cell_type": "code",
   "execution_count": 5,
   "metadata": {
    "ExecuteTime": {
     "end_time": "2020-04-14T20:00:53.825193Z",
     "start_time": "2020-04-14T20:00:53.617960Z"
    }
   },
   "outputs": [],
   "source": [
    "predictions = dtree.predict(X_test)"
   ]
  },
  {
   "cell_type": "code",
   "execution_count": 6,
   "metadata": {
    "ExecuteTime": {
     "end_time": "2020-04-14T20:00:54.537618Z",
     "start_time": "2020-04-14T20:00:53.827483Z"
    }
   },
   "outputs": [
    {
     "name": "stdout",
     "output_type": "stream",
     "text": [
      "              precision    recall  f1-score   support\n",
      "\n",
      "           0       0.84      0.83      0.84    212281\n",
      "           1       0.56      0.57      0.56     77921\n",
      "\n",
      "    accuracy                           0.76    290202\n",
      "   macro avg       0.70      0.70      0.70    290202\n",
      "weighted avg       0.77      0.76      0.76    290202\n",
      "\n",
      "[[176972  35309]\n",
      " [ 33410  44511]]\n"
     ]
    }
   ],
   "source": [
    "from sklearn.metrics import classification_report,confusion_matrix\n",
    "\n",
    "print(classification_report(y_test,predictions))\n",
    "print(confusion_matrix(y_test,predictions))"
   ]
  },
  {
   "cell_type": "code",
   "execution_count": 7,
   "metadata": {
    "ExecuteTime": {
     "end_time": "2020-04-14T20:00:55.068527Z",
     "start_time": "2020-04-14T20:00:54.540683Z"
    }
   },
   "outputs": [
    {
     "data": {
      "image/png": "[encoded data removed]",
      "text/plain": [
       "<Figure size 432x288 with 1 Axes>"
      ]
     },
     "metadata": {},
     "output_type": "display_data"
    }
   ],
   "source": [
    "import sklearn.metrics as metrics\n",
    "# calculate the fpr and tpr for all thresholds of the classification\n",
    "probs = dtree.predict_proba(X_test)\n",
    "preds = probs[:,1]\n",
    "fpr, tpr, threshold = metrics.roc_curve(y_test, preds)\n",
    "roc_auc = metrics.auc(fpr, tpr)\n",
    "\n",
    "# method I: plt\n",
    "import matplotlib.pyplot as plt\n",
    "plt.title('Receiver Operating Characteristic')\n",
    "plt.plot(fpr, tpr, 'b', label = 'AUC = %0.2f' % roc_auc)\n",
    "plt.legend(loc = 'lower right')\n",
    "plt.plot([0, 1], [0, 1],'r--')\n",
    "plt.xlim([0, 1])\n",
    "plt.ylim([0, 1])\n",
    "plt.ylabel('True Positive Rate')\n",
    "plt.xlabel('False Positive Rate')\n",
    "plt.show()"
   ]
  },
  {
   "cell_type": "markdown",
   "metadata": {},
   "source": [
    "### Scikit learn Random Forest"
   ]
  },
  {
   "cell_type": "code",
   "execution_count": 5,
   "metadata": {
    "ExecuteTime": {
     "end_time": "2020-04-14T20:06:40.138162Z",
     "start_time": "2020-04-14T20:00:55.071893Z"
    }
   },
   "outputs": [
    {
     "data": {
      "text/plain": [
       "RandomForestClassifier(bootstrap=True, ccp_alpha=0.0, class_weight=None,\n",
       "                       criterion='gini', max_depth=None, max_features='auto',\n",
       "                       max_leaf_nodes=None, max_samples=None,\n",
       "                       min_impurity_decrease=0.0, min_impurity_split=None,\n",
       "                       min_samples_leaf=1, min_samples_split=2,\n",
       "                       min_weight_fraction_leaf=0.0, n_estimators=100,\n",
       "                       n_jobs=None, oob_score=False, random_state=None,\n",
       "                       verbose=0, warm_start=False)"
      ]
     },
     "execution_count": 5,
     "metadata": {},
     "output_type": "execute_result"
    }
   ],
   "source": [
    "# now with random forest\n",
    "\n",
    "from sklearn.ensemble import RandomForestClassifier\n",
    "rfc = RandomForestClassifier(n_estimators=100)\n",
    "rfc.fit(X_train, y_train)"
   ]
  },
  {
   "cell_type": "code",
   "execution_count": 6,
   "metadata": {
    "ExecuteTime": {
     "end_time": "2020-04-14T20:06:54.936900Z",
     "start_time": "2020-04-14T20:06:40.141041Z"
    }
   },
   "outputs": [],
   "source": [
    "rfc_pred = rfc.predict(X_test)"
   ]
  },
  {
   "cell_type": "code",
   "execution_count": 7,
   "metadata": {
    "ExecuteTime": {
     "end_time": "2020-04-14T20:06:55.681180Z",
     "start_time": "2020-04-14T20:06:54.941073Z"
    },
    "scrolled": true
   },
   "outputs": [
    {
     "name": "stdout",
     "output_type": "stream",
     "text": [
      "              precision    recall  f1-score   support\n",
      "\n",
      "           0       0.86      0.90      0.88    190508\n",
      "           1       0.70      0.62      0.66     70674\n",
      "\n",
      "    accuracy                           0.82    261182\n",
      "   macro avg       0.78      0.76      0.77    261182\n",
      "weighted avg       0.82      0.82      0.82    261182\n",
      "\n",
      "[[171850  18658]\n",
      " [ 27054  43620]]\n"
     ]
    }
   ],
   "source": [
    "from sklearn.metrics import classification_report,confusion_matrix\n",
    "\n",
    "print(classification_report(y_test,rfc_pred))\n",
    "print(confusion_matrix(y_test,rfc_pred))"
   ]
  },
  {
   "cell_type": "markdown",
   "metadata": {},
   "source": [
    "[[171850  18658]\n",
    " [ 27054  43620]]\n",
    "  Random Forest"
   ]
  },
  {
   "cell_type": "code",
   "execution_count": null,
   "metadata": {},
   "outputs": [],
   "source": []
  },
  {
   "cell_type": "code",
   "execution_count": 8,
   "metadata": {
    "ExecuteTime": {
     "end_time": "2020-04-14T20:07:10.781665Z",
     "start_time": "2020-04-14T20:06:55.684650Z"
    }
   },
   "outputs": [
    {
     "data": {
      "image/png": "[encoded data removed]",
      "text/plain": [
       "<Figure size 432x288 with 1 Axes>"
      ]
     },
     "metadata": {},
     "output_type": "display_data"
    }
   ],
   "source": [
    "import sklearn.metrics as metrics\n",
    "# calculate the fpr and tpr for all thresholds of the classification\n",
    "probs = rfc.predict_proba(X_test)\n",
    "preds = probs[:,1]\n",
    "fpr, tpr, threshold = metrics.roc_curve(y_test, preds)\n",
    "roc_auc = metrics.auc(fpr, tpr)\n",
    "\n",
    "# method I: plt\n",
    "import matplotlib.pyplot as plt\n",
    "plt.title('Receiver Operating Characteristic')\n",
    "plt.plot(fpr, tpr, 'b', label = 'AUC = %0.2f' % roc_auc)\n",
    "plt.legend(loc = 'lower right')\n",
    "plt.plot([0, 1], [0, 1],'r--')\n",
    "plt.xlim([0, 1])\n",
    "plt.ylim([0, 1])\n",
    "plt.ylabel('True Positive Rate')\n",
    "plt.xlabel('False Positive Rate')\n",
    "plt.show()"
   ]
  },
  {
   "cell_type": "code",
   "execution_count": 12,
   "metadata": {
    "ExecuteTime": {
     "end_time": "2020-04-14T20:07:11.019698Z",
     "start_time": "2020-04-14T20:07:10.784442Z"
    }
   },
   "outputs": [
    {
     "data": {
      "text/plain": [
       "[('VALUE_SEGMENT', 0.023837294971651213),\n",
       " ('PREP_RECH_Q_EVT_X1', 0.06779551652839204),\n",
       " ('PREP_RECH_Q_EVT_X2', 0.012977255283975787),\n",
       " ('PREP_RECH_Q_EVT_X3', 0.010477323966530663),\n",
       " ('PREP_RECH_AMT_X1', 0.06372082194291709),\n",
       " ('PREP_RECH_AMT_X2', 0.029331266531264336),\n",
       " ('PREP_RECH_AMT_X3', 0.01951394168715286),\n",
       " ('TRD_M1', 0.036622849723566366),\n",
       " ('TRD_M2', 0.033070585844850856),\n",
       " ('TRD_M3', 0.03611864215782936),\n",
       " ('PACK_DATA_Q_X1', 0.016507553690731445),\n",
       " ('PACK_DATA_Q_X2', 0.005479223584614694),\n",
       " ('PACK_DATA_Q_X3', 0.0059271411923804375),\n",
       " ('PACK_DATA_AMT_X1', 0.029910923074405616),\n",
       " ('PACK_DATA_AMT_X2', 0.012353887461227439),\n",
       " ('PACK_DATA_AMT_X3', 0.013804211568771712),\n",
       " ('DATA_EXP_MEAN', 0.0351478159764745),\n",
       " ('PREP_RECH_AMT_REL_X1', 0.0711449249475402),\n",
       " ('PREP_RECH_AMT_REL_X2', 0.019220829450309573),\n",
       " ('PREP_RECH_AMT_REL_X3', 0.02276666582392059),\n",
       " ('PACK_DATA_AMT_REL_X1', 0.017968594594666633),\n",
       " ('PACK_DATA_AMT_REL_X2', 0.012630853975245462),\n",
       " ('PACK_DATA_AMT_REL_X3', 0.01273673362830688),\n",
       " ('PREP_RECH_Q_REL_X2', 0.013045717168792652),\n",
       " ('PREP_RECH_Q_REL_X3', 0.015338517513316906),\n",
       " ('PACK_DATA_Q_REL_X2', 0.005057498172093444),\n",
       " ('PACK_DATA_Q_REL_X3', 0.006721984623369565),\n",
       " ('PREP_RECH_REL_X1', 0.04375974100685193),\n",
       " ('PREP_RECH_REL_X2', 0.017299919429788885),\n",
       " ('PREP_RECH_REL_X3', 0.01605968594596036),\n",
       " ('PACK_DATA_REL_X1', 0.02129473819178992),\n",
       " ('PACK_DATA_REL_X2', 0.01256280193795916),\n",
       " ('PACK_DATA_REL_X3', 0.01351558013543356),\n",
       " ('DAYS_CUSTOMER', 0.08870351309345643),\n",
       " ('PERCENT_DAYS', 0.1375754451744614)]"
      ]
     },
     "execution_count": 12,
     "metadata": {},
     "output_type": "execute_result"
    }
   ],
   "source": [
    "list(zip(df.columns[1:-1],rfc.feature_importances_))"
   ]
  },
  {
   "cell_type": "markdown",
   "metadata": {},
   "source": [
    "### XGBoost"
   ]
  },
  {
   "cell_type": "code",
   "execution_count": 13,
   "metadata": {
    "ExecuteTime": {
     "end_time": "2020-04-14T20:07:11.050593Z",
     "start_time": "2020-04-14T20:07:11.023300Z"
    }
   },
   "outputs": [],
   "source": [
    "import xgboost as xgb"
   ]
  },
  {
   "cell_type": "code",
   "execution_count": 14,
   "metadata": {
    "ExecuteTime": {
     "end_time": "2020-04-14T20:07:11.186580Z",
     "start_time": "2020-04-14T20:07:11.055042Z"
    }
   },
   "outputs": [],
   "source": [
    "# Separate the target variable and rest of the variables using .iloc to subset the data.\n",
    "X,y = df.iloc[:,1:-1],df.iloc[:,-1]"
   ]
  },
  {
   "cell_type": "code",
   "execution_count": 15,
   "metadata": {
    "ExecuteTime": {
     "end_time": "2020-04-14T20:07:11.248508Z",
     "start_time": "2020-04-14T20:07:11.189544Z"
    },
    "scrolled": true
   },
   "outputs": [],
   "source": [
    "#Now you will convert the dataset into an optimized data structure \n",
    "#called Dmatrix that XGBoost supports and gives it acclaimed performance and efficiency gains\n",
    "#data_dmatrix = xgb.DMatrix(data=X,label=y)"
   ]
  },
  {
   "cell_type": "code",
   "execution_count": 16,
   "metadata": {
    "ExecuteTime": {
     "end_time": "2020-04-14T20:07:11.773634Z",
     "start_time": "2020-04-14T20:07:11.250898Z"
    }
   },
   "outputs": [],
   "source": [
    "from sklearn.model_selection import train_test_split\n",
    "\n",
    "X_train, X_test, y_train, y_test = train_test_split(X, y, test_size=0.30, random_state=101)"
   ]
  },
  {
   "cell_type": "code",
   "execution_count": 17,
   "metadata": {
    "ExecuteTime": {
     "end_time": "2020-04-14T20:07:11.778920Z",
     "start_time": "2020-04-14T20:07:11.775694Z"
    }
   },
   "outputs": [],
   "source": [
    "xg_reg = xgb.XGBClassifier()"
   ]
  },
  {
   "cell_type": "code",
   "execution_count": 18,
   "metadata": {
    "ExecuteTime": {
     "end_time": "2020-04-14T20:09:37.669101Z",
     "start_time": "2020-04-14T20:07:11.781421Z"
    }
   },
   "outputs": [
    {
     "data": {
      "text/plain": [
       "XGBClassifier(base_score=0.5, booster='gbtree', colsample_bylevel=1,\n",
       "              colsample_bynode=1, colsample_bytree=1, gamma=0,\n",
       "              learning_rate=0.1, max_delta_step=0, max_depth=3,\n",
       "              min_child_weight=1, missing=None, n_estimators=100, n_jobs=1,\n",
       "              nthread=None, objective='binary:logistic', random_state=0,\n",
       "              reg_alpha=0, reg_lambda=1, scale_pos_weight=1, seed=None,\n",
       "              silent=None, subsample=1, verbosity=1)"
      ]
     },
     "execution_count": 18,
     "metadata": {},
     "output_type": "execute_result"
    }
   ],
   "source": [
    "xg_reg.fit(X_train,y_train)"
   ]
  },
  {
   "cell_type": "code",
   "execution_count": 19,
   "metadata": {
    "ExecuteTime": {
     "end_time": "2020-04-14T20:09:38.712568Z",
     "start_time": "2020-04-14T20:09:37.671594Z"
    }
   },
   "outputs": [],
   "source": [
    "XGB_preds = xg_reg.predict(X_test)"
   ]
  },
  {
   "cell_type": "code",
   "execution_count": 20,
   "metadata": {
    "ExecuteTime": {
     "end_time": "2020-04-14T20:09:39.467647Z",
     "start_time": "2020-04-14T20:09:38.714662Z"
    }
   },
   "outputs": [
    {
     "name": "stdout",
     "output_type": "stream",
     "text": [
      "              precision    recall  f1-score   support\n",
      "\n",
      "           0       0.88      0.90      0.89    212281\n",
      "           1       0.70      0.65      0.68     77921\n",
      "\n",
      "    accuracy                           0.83    290202\n",
      "   macro avg       0.79      0.77      0.78    290202\n",
      "weighted avg       0.83      0.83      0.83    290202\n",
      "\n",
      "[[190574  21707]\n",
      " [ 27161  50760]]\n"
     ]
    }
   ],
   "source": [
    "from sklearn.metrics import classification_report,confusion_matrix\n",
    "\n",
    "print(classification_report(y_test,XGB_preds))\n",
    "print(confusion_matrix(y_test,XGB_preds))"
   ]
  },
  {
   "cell_type": "code",
   "execution_count": 21,
   "metadata": {
    "ExecuteTime": {
     "end_time": "2020-04-14T20:09:40.882048Z",
     "start_time": "2020-04-14T20:09:39.470919Z"
    }
   },
   "outputs": [
    {
     "data": {
      "image/png": "[encoded data removed]",
      "text/plain": [
       "<Figure size 432x288 with 1 Axes>"
      ]
     },
     "metadata": {},
     "output_type": "display_data"
    }
   ],
   "source": [
    "import sklearn.metrics as metrics\n",
    "# calculate the fpr and tpr for all thresholds of the classification\n",
    "probs = xg_reg.predict_proba(X_test)\n",
    "preds = probs[:,1]\n",
    "fpr, tpr, threshold = metrics.roc_curve(y_test, preds)\n",
    "roc_auc = metrics.auc(fpr, tpr)\n",
    "\n",
    "# method I: plt\n",
    "import matplotlib.pyplot as plt\n",
    "plt.title('Receiver Operating Characteristic')\n",
    "plt.plot(fpr, tpr, 'b', label = 'AUC = %0.2f' % roc_auc)\n",
    "plt.legend(loc = 'lower right')\n",
    "plt.plot([0, 1], [0, 1],'r--')\n",
    "plt.xlim([0, 1])\n",
    "plt.ylim([0, 1])\n",
    "plt.ylabel('True Positive Rate')\n",
    "plt.xlabel('False Positive Rate')\n",
    "plt.show()"
   ]
  },
  {
   "cell_type": "code",
   "execution_count": null,
   "metadata": {},
   "outputs": [],
   "source": []
  }
 ],
 "metadata": {
  "kernelspec": {
   "display_name": "Python 3",
   "language": "python",
   "name": "python3"
  },
  "language_info": {
   "codemirror_mode": {
    "name": "ipython",
    "version": 3
   },
   "file_extension": ".py",
   "mimetype": "text/x-python",
   "name": "python",
   "nbconvert_exporter": "python",
   "pygments_lexer": "ipython3",
   "version": "3.7.0"
  },
  "toc": {
   "base_numbering": 1,
   "nav_menu": {},
   "number_sections": true,
   "sideBar": true,
   "skip_h1_title": false,
   "title_cell": "Table of Contents",
   "title_sidebar": "Contents",
   "toc_cell": false,
   "toc_position": {},
   "toc_section_display": true,
   "toc_window_display": false
  }
 },
 "nbformat": 4,
 "nbformat_minor": 2
}
